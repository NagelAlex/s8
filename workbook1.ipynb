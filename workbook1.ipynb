{
 "cells": [
  {
   "cell_type": "code",
   "execution_count": 13,
   "metadata": {
    "collapsed": true
   },
   "outputs": [],
   "source": [
    "%%bash\n",
    "cat << _EOF_ > whereami.sh\n",
    "#!/bin/bash\n",
    "\n",
    "echo \"You are in pwd\" \n",
    "_EOF_"
   ]
  },
  {
   "cell_type": "code",
   "execution_count": 14,
   "metadata": {
    "collapsed": false
   },
   "outputs": [
    {
     "name": "stdout",
     "output_type": "stream",
     "text": [
      "#!/bin/bash\n",
      "\n",
      "echo \"You are in pwd\" \n"
     ]
    }
   ],
   "source": [
    "%%bash\n",
    "cat whereami.sh"
   ]
  },
  {
   "cell_type": "code",
   "execution_count": 15,
   "metadata": {
    "collapsed": true
   },
   "outputs": [],
   "source": [
    "%%bash \n",
    "chmod 744 whereami.sh"
   ]
  },
  {
   "cell_type": "code",
   "execution_count": 16,
   "metadata": {
    "collapsed": false
   },
   "outputs": [
    {
     "name": "stdout",
     "output_type": "stream",
     "text": [
      "total 21\n",
      "-rwxr-xr-x  1 Administrators Domain Users 12610 Feb 10 11:43 01_bash_setting_permissions.ipynb\n",
      "drwxr-xr-x+ 1 t00189485      Domain Users     0 Feb 10 11:39 s8\n",
      "-rwxr--r--  1 t00189485      Domain Users    36 Feb 10 11:56 whereami.sh\n",
      "-rwxr-xr-x  1 t00189485      Domain Users  2920 Feb 10 11:54 workbook1.ipynb\n"
     ]
    }
   ],
   "source": [
    "%%bash\n",
    "ls -l"
   ]
  },
  {
   "cell_type": "code",
   "execution_count": 17,
   "metadata": {
    "collapsed": false
   },
   "outputs": [
    {
     "name": "stdout",
     "output_type": "stream",
     "text": [
      "-rwxr--r-- 1 t00189485 Domain Users 36 Feb 10 11:56 whereami.sh\n"
     ]
    }
   ],
   "source": [
    "%%bash\n",
    "ls -l whereami.sh"
   ]
  },
  {
   "cell_type": "code",
   "execution_count": 18,
   "metadata": {
    "collapsed": false
   },
   "outputs": [
    {
     "name": "stdout",
     "output_type": "stream",
     "text": [
      "You are in pwd\n"
     ]
    }
   ],
   "source": [
    "%%bash\n",
    "./whereami.sh"
   ]
  },
  {
   "cell_type": "code",
   "execution_count": 19,
   "metadata": {
    "collapsed": true
   },
   "outputs": [],
   "source": [
    "%%bash\n",
    "cat << _EOF_ > whereami.sh\n",
    "#!/bin/bash\n",
    "\n",
    "pwd\n",
    "\n",
    "_EOF_"
   ]
  },
  {
   "cell_type": "code",
   "execution_count": 21,
   "metadata": {
    "collapsed": false
   },
   "outputs": [
    {
     "name": "stdout",
     "output_type": "stream",
     "text": [
      "#!/bin/bash\n",
      "\n",
      "pwd\n",
      "\n"
     ]
    }
   ],
   "source": [
    "%%bash\n",
    "cat whereami.sh"
   ]
  },
  {
   "cell_type": "code",
   "execution_count": 22,
   "metadata": {
    "collapsed": false
   },
   "outputs": [
    {
     "name": "stdout",
     "output_type": "stream",
     "text": [
      "/home/t00189485\n"
     ]
    }
   ],
   "source": [
    "%%bash\n",
    "./whereami.sh"
   ]
  },
  {
   "cell_type": "code",
   "execution_count": 28,
   "metadata": {
    "collapsed": true
   },
   "outputs": [],
   "source": [
    "%%bash\n",
    "cat << _EOF_ > whereami.sh\n",
    "#!/bin/bash\n",
    "\n",
    "echo \"You are in $(pwd)\"\n",
    "\n",
    "_EOF_"
   ]
  },
  {
   "cell_type": "code",
   "execution_count": 29,
   "metadata": {
    "collapsed": false
   },
   "outputs": [
    {
     "name": "stdout",
     "output_type": "stream",
     "text": [
      "You are in /home/t00189485\n"
     ]
    }
   ],
   "source": [
    "%%bash\n",
    "./whereami.sh"
   ]
  },
  {
   "cell_type": "code",
   "execution_count": 30,
   "metadata": {
    "collapsed": true
   },
   "outputs": [],
   "source": [
    "%%bash\n",
    "cat << _EOF_ > whereami.sh\n",
    "#!/bin/bash\n",
    "\n",
    "echo \"You are in $(pwd)\"\n",
    "echo \"$(ls -l)\"\n",
    "\n",
    "_EOF_"
   ]
  },
  {
   "cell_type": "code",
   "execution_count": 31,
   "metadata": {
    "collapsed": false
   },
   "outputs": [
    {
     "name": "stdout",
     "output_type": "stream",
     "text": [
      "You are in /home/t00189485\n",
      "total 25\n",
      "-rwxr-xr-x  1 Administrators Domain Users 12610 Feb 10 11:43 01_bash_setting_permissions.ipynb\n",
      "drwxr-xr-x+ 1 t00189485      Domain Users     0 Feb 10 11:39 s8\n",
      "-rwxr--r--  1 t00189485      Domain Users    48 Feb 10 11:58 whereami.sh\n",
      "-rwxr-xr-x  1 t00189485      Domain Users  4251 Feb 10 11:58 workbook1.ipynb\n"
     ]
    }
   ],
   "source": [
    "%%bash\n",
    "./whereami.sh"
   ]
  },
  {
   "cell_type": "code",
   "execution_count": 32,
   "metadata": {
    "collapsed": true
   },
   "outputs": [],
   "source": [
    "%%bash\n",
    "cat << _EOF_ > whereami.sh\n",
    "#!/bin/bash\n",
    "\n",
    "echo \"You are in $(pwd)\"\n",
    "echo \"$(ls -l)\"\n",
    "echo \"$(df)\"\n",
    "\n",
    "_EOF_"
   ]
  },
  {
   "cell_type": "code",
   "execution_count": 33,
   "metadata": {
    "collapsed": false
   },
   "outputs": [
    {
     "name": "stdout",
     "output_type": "stream",
     "text": [
      "You are in /home/t00189485\n",
      "total 25\n",
      "-rwxr-xr-x  1 Administrators Domain Users 12610 Feb 10 11:43 01_bash_setting_permissions.ipynb\n",
      "drwxr-xr-x+ 1 t00189485      Domain Users     0 Feb 10 11:39 s8\n",
      "-rwxr--r--  1 t00189485      Domain Users   373 Feb 10 12:00 whereami.sh\n",
      "-rwxr-xr-x  1 t00189485      Domain Users  5127 Feb 10 12:00 workbook1.ipynb\n",
      "Filesystem         1K-blocks       Used     Available Use% Mounted on\n",
      "C:/cygwin64        934570312  494966208     439604104  53% /\n",
      "K:                1073753084  480890652     592862432  45% /cygdrive/k\n",
      "M:                2959300616 1875025124    1084275492  64% /cygdrive/m\n",
      "N:                 100584316   86867524      13716792  87% /cygdrive/n\n",
      "X:             1072668082176          0 1072668082176   0% /cygdrive/x\n"
     ]
    }
   ],
   "source": [
    "%%bash\n",
    "./whereami.sh"
   ]
  },
  {
   "cell_type": "code",
   "execution_count": 34,
   "metadata": {
    "collapsed": false
   },
   "outputs": [
    {
     "name": "stdout",
     "output_type": "stream",
     "text": [
      "You are in /home/t00189485\n",
      "total 28\n",
      "-rwxr-xr-x  1 Administrators Domain Users 12610 Feb 10 11:43 01_bash_setting_permissions.ipynb\n",
      "drwxr-xr-x+ 1 t00189485      Domain Users     0 Feb 10 11:39 s8\n",
      "-rwxr--r--  1 t00189485      Domain Users   795 Feb 10 12:02 whereami.sh\n",
      "-rwxr-xr-x  1 t00189485      Domain Users  6830 Feb 10 12:02 workbook1.ipynb\n",
      "Filesystem         1K-blocks       Used     Available Use% Mounted on\n",
      "C:/cygwin64        934570312  494966216     439604096  53% /\n",
      "K:                1073753084  480890652     592862432  45% /cygdrive/k\n",
      "M:                2959300616 1875025124    1084275492  64% /cygdrive/m\n",
      "N:                 100584316   86867564      13716752  87% /cygdrive/n\n",
      "X:             1072668082176          0 1072668082176   0% /cygdrive/x\n"
     ]
    }
   ],
   "source": [
    "%%bash\n",
    "cat << _EOF_ > whereami.sh\n",
    "#!/bin/bash\n",
    "\n",
    "echo \"You are in $(pwd)\"\n",
    "echo \"$(ls -l)\"\n",
    "echo \"$(df)\"\n",
    "\n",
    "_EOF_\n",
    "\n",
    "./whereami.sh"
   ]
  },
  {
   "cell_type": "code",
   "execution_count": 35,
   "metadata": {
    "collapsed": false
   },
   "outputs": [
    {
     "name": "stdout",
     "output_type": "stream",
     "text": [
      "You are in /home/t00189485\n",
      "total 32\n",
      "-rwxr-xr-x  1 Administrators Domain Users 12610 Feb 10 11:43 01_bash_setting_permissions.ipynb\n",
      "drwxr-xr-x+ 1 t00189485      Domain Users     0 Feb 10 11:39 s8\n",
      "-rwxr--r--  1 t00189485      Domain Users   795 Feb 10 12:03 whereami.sh\n",
      "-rwxr-xr-x  1 t00189485      Domain Users  8211 Feb 10 12:04 workbook1.ipynb\n",
      "Filesystem         1K-blocks       Used     Available Use% Mounted on\n",
      "C:/cygwin64        934570312  494966260     439604052  53% /\n",
      "K:                1073753084  480890652     592862432  45% /cygdrive/k\n",
      "M:                2959300616 1875025124    1084275492  64% /cygdrive/m\n",
      "N:                 100584316   86867656      13716660  87% /cygdrive/n\n",
      "X:             1072668082176          0 1072668082176   0% /cygdrive/x\n",
      "total 60\n",
      "drwxr-xr-x+ 1 t00189485                     Domain Users             0 Feb 10 12:04 .\n",
      "drwxrwxrwt+ 1 1XX64006A3DA878+Administrator 1XX64006A3DA878+None     0 Feb 10 11:17 ..\n",
      "-rwxr-xr-x  1 t00189485                     Domain Users          1494 Oct  1 14:58 .bash_profile\n",
      "-rwxr-xr-x  1 t00189485                     Domain Users          6054 Oct  1 14:58 .bashrc\n",
      "-rwxr-xr-x  1 t00189485                     Domain Users          1919 Oct  1 14:58 .inputrc\n",
      "drwxr-xr-x+ 1 t00189485                     Domain Users             0 Feb 10 11:43 .ipynb_checkpoints\n",
      "drwxr-xr-x+ 1 t00189485                     Domain Users             0 Feb 10 11:31 .ipython\n",
      "-rwxr-xr-x  1 t00189485                     Domain Users          1236 Oct  1 14:58 .profile\n",
      "-rwxr-xr-x  1 Administrators                Domain Users         12610 Feb 10 11:43 01_bash_setting_permissions.ipynb\n",
      "drwxr-xr-x+ 1 t00189485                     Domain Users             0 Feb 10 11:39 s8\n",
      "-rwxr--r--  1 t00189485                     Domain Users           795 Feb 10 12:03 whereami.sh\n",
      "-rwxr-xr-x  1 t00189485                     Domain Users          8211 Feb 10 12:04 workbook1.ipynb\n"
     ]
    }
   ],
   "source": [
    "%%bash\n",
    "\n",
    "cat << _EOF_ > whereami.sh\n",
    "#!/bin/bash\n",
    "\n",
    "echo \"You are in $(pwd)\"\n",
    "echo \"$(ls -l)\"\n",
    "echo \"$(df)\"\n",
    "echo \"$(ls -al)\"\n",
    "\n",
    "_EOF_\n",
    "\n",
    "./whereami.sh"
   ]
  },
  {
   "cell_type": "code",
   "execution_count": 37,
   "metadata": {
    "collapsed": false
   },
   "outputs": [
    {
     "name": "stdout",
     "output_type": "stream",
     "text": [
      "You are in /home/t00189485\n",
      "total 32\n",
      "-rwxr-xr-x  1 Administrators Domain Users 12610 Feb 10 11:43 01_bash_setting_permissions.ipynb\n",
      "drwxr-xr-x+ 1 t00189485      Domain Users     0 Feb 10 11:39 s8\n",
      "-rwxr--r--  1 t00189485      Domain Users  1965 Feb 10 12:08 whereami.sh\n",
      "-rwxr-xr-x  1 t00189485      Domain Users 10658 Feb 10 12:06 workbook1.ipynb\n",
      "Filesystem         1K-blocks       Used     Available Use% Mounted on\n",
      "C:/cygwin64        934570312  494966288     439604024  53% /\n",
      "K:                1073753084  480890652     592862432  45% /cygdrive/k\n",
      "M:                2959300616 1875025124    1084275492  64% /cygdrive/m\n",
      "N:                 100584316   86867732      13716584  87% /cygdrive/n\n",
      "X:             1072668082176          0 1072668082176   0% /cygdrive/x\n",
      "total 60\n",
      "drwxr-xr-x+ 1 t00189485                     Domain Users             0 Feb 10 12:06 .\n",
      "drwxrwxrwt+ 1 1XX64006A3DA878+Administrator 1XX64006A3DA878+None     0 Feb 10 11:17 ..\n",
      "-rwxr-xr-x  1 t00189485                     Domain Users          1494 Oct  1 14:58 .bash_profile\n",
      "-rwxr-xr-x  1 t00189485                     Domain Users          6054 Oct  1 14:58 .bashrc\n",
      "-rwxr-xr-x  1 t00189485                     Domain Users          1919 Oct  1 14:58 .inputrc\n",
      "drwxr-xr-x+ 1 t00189485                     Domain Users             0 Feb 10 11:43 .ipynb_checkpoints\n",
      "drwxr-xr-x+ 1 t00189485                     Domain Users             0 Feb 10 11:31 .ipython\n",
      "-rwxr-xr-x  1 t00189485                     Domain Users          1236 Oct  1 14:58 .profile\n",
      "-rwxr-xr-x  1 Administrators                Domain Users         12610 Feb 10 11:43 01_bash_setting_permissions.ipynb\n",
      "drwxr-xr-x+ 1 t00189485                     Domain Users             0 Feb 10 11:39 s8\n",
      "-rwxr--r--  1 t00189485                     Domain Users          1965 Feb 10 12:08 whereami.sh\n",
      "-rwxr-xr-x  1 t00189485                     Domain Users         10658 Feb 10 12:06 workbook1.ipynb\n"
     ]
    }
   ],
   "source": [
    "%%bash\n",
    "\n",
    "cat << _EOF_ > whereami.sh\n",
    "#!/bin/bash\n",
    "\n",
    "echo \"You are in $(pwd)\"\n",
    "echo \"$(ls -l)\"\n",
    "echo \"$(df)\"\n",
    "echo \"$(ls -al)\"\n",
    "\n",
    "_EOF_\n",
    "\n",
    "./whereami.sh"
   ]
  },
  {
   "cell_type": "code",
   "execution_count": null,
   "metadata": {
    "collapsed": true
   },
   "outputs": [],
   "source": []
  }
 ],
 "metadata": {
  "kernelspec": {
   "display_name": "Python 3",
   "language": "python",
   "name": "python3"
  },
  "language_info": {
   "codemirror_mode": {
    "name": "ipython",
    "version": 3
   },
   "file_extension": ".py",
   "mimetype": "text/x-python",
   "name": "python",
   "nbconvert_exporter": "python",
   "pygments_lexer": "ipython3",
   "version": "3.5.1"
  }
 },
 "nbformat": 4,
 "nbformat_minor": 0
}
